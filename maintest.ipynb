{
 "cells": [
  {
   "cell_type": "code",
   "execution_count": 2,
   "metadata": {},
   "outputs": [
    {
     "name": "stderr",
     "output_type": "stream",
     "text": [
      "/Users/zaidsaheb/Desktop/projects/xppcoder/venv/lib/python3.9/site-packages/urllib3/__init__.py:35: NotOpenSSLWarning: urllib3 v2 only supports OpenSSL 1.1.1+, currently the 'ssl' module is compiled with 'LibreSSL 2.8.3'. See: https://github.com/urllib3/urllib3/issues/3020\n",
      "  warnings.warn(\n"
     ]
    }
   ],
   "source": [
    "import os\n",
    "from langchain_openai import ChatOpenAI\n",
    "from dotenv import load_dotenv\n",
    "\n",
    "load_dotenv()\n",
    "\n",
    "os.environ[\"OPENAI_API_KEY\"] = os.getenv('OPENAI_API_KEY')\n",
    "chat = ChatOpenAI(\n",
    "    openai_api_key=os.environ[\"OPENAI_API_KEY\"],\n",
    "    model='gpt-3.5-turbo'\n",
    ")"
   ]
  },
  {
   "cell_type": "code",
   "execution_count": 2,
   "metadata": {},
   "outputs": [],
   "source": [
    "from langchain.schema import (\n",
    "    SystemMessage,\n",
    "    HumanMessage,\n",
    "    AIMessage\n",
    ")\n",
    "\n",
    "messages = [\n",
    "    SystemMessage(content=\"You are a helpful assistant.\"),\n",
    "    HumanMessage(content=\"Hi AI, how are you today?\"),\n",
    "    AIMessage(content=\"I'm great thank you. How can I help you?\"),\n",
    "    HumanMessage(content=\"I'd like to understand what love is.\")\n",
    "]"
   ]
  },
  {
   "cell_type": "code",
   "execution_count": 17,
   "metadata": {},
   "outputs": [
    {
     "name": "stderr",
     "output_type": "stream",
     "text": [
      "/Users/zaidsaheb/Desktop/projects/xppcoder/venv/lib/python3.9/site-packages/langchain_core/_api/deprecation.py:117: LangChainDeprecationWarning: The function `__call__` was deprecated in LangChain 0.1.7 and will be removed in 0.2.0. Use invoke instead.\n",
      "  warn_deprecated(\n"
     ]
    },
    {
     "name": "stdout",
     "output_type": "stream",
     "text": [
      "Love is a complex and multifaceted emotion that can be experienced in many different ways. It involves feelings of deep affection, care, and attachment towards another person. Love can manifest in various forms, such as romantic love, platonic love, familial love, and self-love. It often involves a strong emotional connection, empathy, and a desire to support and nurture the well-being of the person you love. Love can bring joy, fulfillment, and a sense of belonging, but it can also be challenging and require effort and compromise to maintain. Ultimately, love is a deeply personal and subjective experience that can have a profound impact on our lives.\n"
     ]
    }
   ],
   "source": [
    "res = chat(messages)\n",
    "print(res.content)"
   ]
  },
  {
   "cell_type": "code",
   "execution_count": null,
   "metadata": {},
   "outputs": [],
   "source": [
    "# add latest AI response to messages\n",
    "messages.append(res)\n",
    "\n",
    "# now create a new user prompt\n",
    "prompt = HumanMessage(\n",
    "    content=\"Do you believe in love?\"\n",
    ")\n",
    "# add to messages\n",
    "messages.append(prompt)\n",
    "\n",
    "# send to chat-gpt\n",
    "res = chat(messages)\n",
    "\n",
    "print(res.content)"
   ]
  },
  {
   "cell_type": "code",
   "execution_count": 22,
   "metadata": {},
   "outputs": [],
   "source": [
    "# add latest AI response to messages\n",
    "messages.append(res)\n",
    "\n",
    "# now create a new user prompt\n",
    "prompt = HumanMessage(\n",
    "    content=\"What does page 69 of Extending Microsoft Dynamics 365 Finance and Supply Chain Management Cookbook Second Edition by Simon Buxton talk about?\"\n",
    ")\n",
    "# add to messages\n",
    "messages.append(prompt)\n",
    "\n",
    "# send to OpenAI\n",
    "res = chat(messages)"
   ]
  },
  {
   "cell_type": "code",
   "execution_count": 23,
   "metadata": {},
   "outputs": [
    {
     "name": "stdout",
     "output_type": "stream",
     "text": [
      "I don't have access to specific pages or content from the book \"Extending Microsoft Dynamics 365 Finance and Supply Chain Management Cookbook Second Edition\" by Simon Buxton. However, I can provide a general overview of the topics covered in the book.\n",
      "\n",
      "The book is a practical guide that focuses on extending and customizing Microsoft Dynamics 365 Finance and Supply Chain Management using various tools and techniques. It covers a wide range of topics related to development, customization, and integration with the Dynamics 365 platform.\n",
      "\n",
      "Some of the key topics covered in the book may include:\n",
      "\n",
      "- Customizing forms, tables, and reports in Dynamics 365 Finance and Supply Chain Management\n",
      "- Extending functionality using X++, C#, and .NET technologies\n",
      "- Integrating with external systems and services\n",
      "- Implementing business logic and workflows\n",
      "- Enhancing security and data management\n",
      "- Performance optimization and best practices for development\n",
      "\n",
      "If you are looking for specific information from page 69 of the book, I recommend referring to your personal copy or accessing the book through an online platform to read the content related to that page.\n"
     ]
    }
   ],
   "source": [
    "print(res.content)"
   ]
  },
  {
   "cell_type": "code",
   "execution_count": 3,
   "metadata": {},
   "outputs": [
    {
     "name": "stderr",
     "output_type": "stream",
     "text": [
      "/Users/zaidsaheb/Desktop/projects/xppcoder/venv/lib/python3.9/site-packages/pinecone/data/index.py:1: TqdmWarning: IProgress not found. Please update jupyter and ipywidgets. See https://ipywidgets.readthedocs.io/en/stable/user_install.html\n",
      "  from tqdm.autonotebook import tqdm\n"
     ]
    }
   ],
   "source": [
    "from pinecone import Pinecone\n",
    "\n",
    "import re\n",
    "import pdfplumber\n",
    "import openai\n",
    "from langchain.document_loaders import PyPDFLoader\n",
    "from langchain.text_splitter import RecursiveCharacterTextSplitter\n",
    "\n",
    "\n",
    "os.environ[\"PINECONE_API_KEY\"] = os.getenv('PINECONE_API_KEY')\n",
    "\n",
    "pc = Pinecone(api_key=os.environ[\"PINECONE_API_KEY\"])\n",
    "index = pc.Index(\"xppcoder\")"
   ]
  },
  {
   "cell_type": "code",
   "execution_count": 4,
   "metadata": {},
   "outputs": [],
   "source": [
    "openai.api_key = os.getenv('OPENAI_API_KEY')\n",
    "MODEL = \"text-embedding-ada-002\""
   ]
  },
  {
   "cell_type": "code",
   "execution_count": 7,
   "metadata": {},
   "outputs": [
    {
     "name": "stderr",
     "output_type": "stream",
     "text": [
      "Processing documents: 100%|██████████| 1010/1010 [00:00<00:00, 153193.04it/s]\n"
     ]
    }
   ],
   "source": [
    "import re\n",
    "from tqdm import tqdm  # Import tqdm for progress tracking\n",
    "\n",
    "# Define a function to preprocess text\n",
    "def preprocess_text(text):\n",
    "    # Replace consecutive spaces, newlines, and tabs\n",
    "    text = re.sub(r'\\s+', ' ', text)\n",
    "    return text\n",
    "\n",
    "def process_pdf(file_path):\n",
    "    # create a loader\n",
    "    loader = PyPDFLoader(file_path)\n",
    "    # load your data\n",
    "    data = loader.load()\n",
    "    # Split your data up into smaller documents with Chunks\n",
    "    text_splitter = RecursiveCharacterTextSplitter(chunk_size=1000, chunk_overlap=200)\n",
    "    documents = text_splitter.split_documents(data)\n",
    "    # Convert Document objects into strings with progress tracking\n",
    "    texts = [str(doc) for doc in documents]\n",
    "    return texts\n",
    "\n",
    "\n"
   ]
  },
  {
   "cell_type": "code",
   "execution_count": 8,
   "metadata": {},
   "outputs": [],
   "source": [
    "def create_embeddings(texts):\n",
    "    embeddings_list = []\n",
    "    for text in texts:\n",
    "        response = openai.embeddings.create(input=text, model=MODEL)\n",
    "        embedding = response.data[0].embedding  # Access the embedding correctly\n",
    "        embeddings_list.append(embedding)\n",
    "    return embeddings_list\n",
    "\n",
    "# Define a function to upsert embeddings to Pinecone with metadata\n",
    "def upsert_embeddings_to_pinecone(index, embeddings, ids, texts, batch_size=100):\n",
    "    for i in range(0, len(embeddings), batch_size):\n",
    "        batch_embeddings = embeddings[i:i + batch_size]\n",
    "        batch_ids = ids[i:i + batch_size]\n",
    "        batch_texts = texts[i:i + batch_size]\n",
    "        metadata = [{'text': preprocess_text(text)} for text in batch_texts]\n",
    "        index.upsert(vectors=[(id, embedding, meta) for id, embedding, meta in zip(batch_ids, batch_embeddings, metadata)])\n",
    "\n",
    "\n"
   ]
  },
  {
   "cell_type": "code",
   "execution_count": null,
   "metadata": {},
   "outputs": [],
   "source": [
    "# Define a function to create embedding\n",
    "# Process a PDF and create embeddings\n",
    "file_paths = [\"dynamics365finopsdocs-1000-1500.pdf\",\"dynamics365finopsdocs-1501-2000.pdf\",\"dynamics365finopsdocs-2001-2500.pdf\",\"dynamics365finopsdocs-2501-3000.pdf\",\"dynamics365finopsdocs-3001-3500.pdf\",\"dynamics365finopsdocs-3501-4000.pdf\",\"dynamics365finopsdocs-4001-4500.pdf\",\"dynamics365finopsdocs-4501-5000.pdf\",\"dynamics365finopsdocs-5001-5500.pdf\",\"dynamics365finopsdocs-5501-6000.pdf\",\"dynamics365finopsdocs-6001-6248.pdf\",]  # Replace with your actual file path\n",
    "for file_path in file_paths:\n",
    "  texts = process_pdf(file_path)\n",
    "  print(\"processed text for file\", file_path)\n",
    "  embeddings = create_embeddings(texts)\n",
    "  # Assuming that `file_path` is used as the ID for the entire document; if you want to use unique IDs for each text chunk, modify this accordingly\n",
    "  ids = [f\"{file_path}_chunk_{i}\" for i in range(len(embeddings))]\n",
    "  # Upsert the embeddings to Pinecone with text as metadata\n",
    "  upsert_embeddings_to_pinecone(index, embeddings, ids, texts)\n",
    "  print(\"upserted embeddings for file\", file_path)"
   ]
  },
  {
   "cell_type": "code",
   "execution_count": 12,
   "metadata": {},
   "outputs": [
    {
     "name": "stderr",
     "output_type": "stream",
     "text": [
      "/Users/zaidsaheb/Desktop/projects/xppcoder/venv/lib/python3.9/site-packages/langchain_core/_api/deprecation.py:117: LangChainDeprecationWarning: The class `langchain_community.embeddings.openai.OpenAIEmbeddings` was deprecated in langchain-community 0.0.9 and will be removed in 0.2.0. An updated version of the class exists in the langchain-openai package and should be used instead. To use it run `pip install -U langchain-openai` and import as `from langchain_openai import OpenAIEmbeddings`.\n",
      "  warn_deprecated(\n",
      "/Users/zaidsaheb/Desktop/projects/xppcoder/venv/lib/python3.9/site-packages/langchain_core/_api/deprecation.py:117: LangChainDeprecationWarning: The class `langchain_community.vectorstores.pinecone.Pinecone` was deprecated in langchain-community 0.0.18 and will be removed in 0.2.0. An updated version of the class exists in the langchain-pinecone package and should be used instead. To use it run `pip install -U langchain-pinecone` and import as `from langchain_pinecone import Pinecone`.\n",
      "  warn_deprecated(\n",
      "/Users/zaidsaheb/Desktop/projects/xppcoder/venv/lib/python3.9/site-packages/langchain_community/vectorstores/pinecone.py:68: UserWarning: Passing in `embedding` as a Callable is deprecated. Please pass in an Embeddings object instead.\n",
      "  warnings.warn(\n"
     ]
    }
   ],
   "source": [
    "from langchain.vectorstores import Pinecone\n",
    "from langchain.embeddings import OpenAIEmbeddings\n",
    "\n",
    "text_field = \"text\"  # the metadata field that contains our text\n",
    "embed_model = OpenAIEmbeddings(model=MODEL)\n",
    "# initialize the vector store object\n",
    "vectorstore = Pinecone(\n",
    "    index, embed_model.embed_query, text_field\n",
    ")"
   ]
  },
  {
   "cell_type": "code",
   "execution_count": 13,
   "metadata": {},
   "outputs": [
    {
     "data": {
      "text/plain": [
       "[Document(page_content=\"page_content='Application Extensibility Chapter 5\\\\n[ 184 ]Using Chain of Command with a form\\\\nThe forms in SCM can contain a lot of code that we may wish to augment to suit a specific\\\\nrequirement. We have added a service ID field to the sales order, so it may seem a fair\\\\nrequirement to default the service ID if it were called from a service order.\\\\nWhen a form is opened, an args object is passed. If we add the SalesTable menu item to\\\\nour service order form, and set the dataset to the service order, the args object will be\\\\nconstructed with a reference to this record. We can use this to filter a list of sales orders or\\\\nuse it in the form to set defaults on a new sales order record.\\\\nHow to do it...\\\\nFirst, we will add the sales order menu item to our service order, and then use the Chain of\\\\nCommand to integrate it into our solution. To add the menu item, follow these steps:\\\\nOpen the ConVMSVehicleServiceTable form. 1.\\\\nRight-click on the HeaderActionPane action pane control, and choose New | 2.' metadata={'source': 'fnobook.pdf', 'page': 200}\"),\n",
       " Document(page_content=\"page_content='Application Extensibility Chapter 5\\\\n[ 182 ]Getting ready\\\\nRe-open the main development project, ConVehicleManagement , for this. Before we start\\\\nusing the Adding fields to a standard table recipe to add a field to the SalesTable table for\\\\nthe ConVMSVehicleServiceId EDT, also add a relationship to\\\\nConVMSVehicleServiceTable . Create a field group also called ConVMSServiceGroup\\\\nwith a label for Service details .\\\\nHow to do it...\\\\nTo write a form extension for the sales order form, SalesTable , follow these steps:\\\\nLocate the desired form ( SalesTable ) in the Application Explorer , right-click 1.\\\\non it, and choose Create extension . This will add a new form extension to our\\\\nproject.\\\\nLocate the new form extension in our project, and rename it so it will remain2.\\\\nglobally unique, for example, SalesTable.ConVehicleManagement .\\\\nOpen the form extension in the designer. 3.\\\\nWe can now drag any field or field group, including extension fields that' metadata={'source': 'fnobook.pdf', 'page': 198}\"),\n",
       " Document(page_content='page_content=\"Workflow Development Chapter 14\\\\n[ 469 ]We don\\'t have to add the table to our project to edit it as it is in the same\\\\npackage. It is preferable to keep elements in just one project. The only\\\\ndownside is that we will need to build the package using the Build\\\\nmodels option on the Dynamics 365 menu. In prior releases of AX, it was\\\\ncommon to add the same objects to different projects, but this was usually\\\\nonly due to the fact we were overlaying a lot of standard elements.\\\\nCreate a field group named Inspection and set the Label property to 4.\\\\nInspection. Add the fields to this group and then add the field group to a suitable\\\\nplace in the ConVMSVehicleTable form, which is also opened from the\\\\nApplication Explorer .\\\\nNext, let\\'s add a status handler class. Create a new class name, 5.\\\\nConVMSVehicleWFInspStatusHandler . Create a method to handle the status\\\\nchange and set the InspComment and InspDate fields from the method\\'s\\\\nparameters. The code for this is as follows:\" metadata={\\'source\\': \\'fnobook.pdf\\', \\'page\\': 485}')]"
      ]
     },
     "execution_count": 13,
     "metadata": {},
     "output_type": "execute_result"
    }
   ],
   "source": [
    "\n",
    "query = \"How can I add a new field to a form in Dynamics 365 using Chain of Command??\"\n",
    "\n",
    "vectorstore.similarity_search(query, k=3)"
   ]
  },
  {
   "cell_type": "code",
   "execution_count": 14,
   "metadata": {},
   "outputs": [],
   "source": [
    "def augment_prompt(query: str):\n",
    "    # get top 3 results from knowledge base\n",
    "    results = vectorstore.similarity_search(query, k=3)\n",
    "    # get the text from the results\n",
    "    source_knowledge = \"\\n\".join([x.page_content for x in results])\n",
    "    # feed into an augmented prompt\n",
    "    augmented_prompt = f\"\"\"Using the contexts below, answer the query.\n",
    "\n",
    "    Contexts:\n",
    "    {source_knowledge}\n",
    "\n",
    "    Query: {query}\"\"\"\n",
    "    return augmented_prompt"
   ]
  },
  {
   "cell_type": "code",
   "execution_count": 15,
   "metadata": {},
   "outputs": [
    {
     "name": "stderr",
     "output_type": "stream",
     "text": [
      "/Users/zaidsaheb/Desktop/projects/xppcoder/venv/lib/python3.9/site-packages/langchain_core/_api/deprecation.py:117: LangChainDeprecationWarning: The function `__call__` was deprecated in LangChain 0.1.7 and will be removed in 0.2.0. Use invoke instead.\n",
      "  warn_deprecated(\n"
     ]
    },
    {
     "name": "stdout",
     "output_type": "stream",
     "text": [
      "To add a new field to a form in Dynamics 365 using Chain of Command, you can follow these steps:\n",
      "\n",
      "1. Open the desired form in the Application Explorer.\n",
      "2. Locate the field or field group you want to extend.\n",
      "3. Right-click on the field or field group, and choose \"Create extension.\" This will add a new form extension to your project.\n",
      "4. Rename the new form extension to ensure it remains globally unique.\n",
      "5. Open the form extension in the designer and make the necessary modifications to add the new field.\n",
      "\n",
      "By using the Chain of Command approach, you can easily extend forms in Dynamics 365 without modifying the standard code directly.\n"
     ]
    }
   ],
   "source": [
    "# create a new user prompt\n",
    "prompt = HumanMessage(\n",
    "    content=augment_prompt(query)\n",
    ")\n",
    "# add to messages\n",
    "messages.append(prompt)\n",
    "\n",
    "res = chat(messages)\n",
    "\n",
    "print(res.content)"
   ]
  },
  {
   "cell_type": "code",
   "execution_count": 16,
   "metadata": {},
   "outputs": [
    {
     "name": "stdout",
     "output_type": "stream",
     "text": [
      "To add a new field to a form in Dynamics 365 using Chain of Command, you can follow these steps:\n",
      "\n",
      "1. Identify the form you want to extend, such as SalesTable or ConVMSVehicleServiceTable.\n",
      "\n",
      "2. Locate the desired form in the Application Explorer.\n",
      "\n",
      "3. Right-click on the form and choose \"Create extension.\" This will add a new form extension to your project.\n",
      "\n",
      "4. Rename the new form extension to ensure it is globally unique, for example, SalesTable.ConVehicleManagement.\n",
      "\n",
      "5. Open the form extension in the designer.\n",
      "\n",
      "6. You can now drag any field or field group, including extension fields, onto the form to add your new field.\n",
      "\n",
      "By following these steps and using Chain of Command in Dynamics 365, you can easily add a new field to a form to customize it according to your requirements.\n"
     ]
    }
   ],
   "source": [
    "prompt = HumanMessage(\n",
    "    content=\"Can you elaborate on using Chain of command and provide me the steps to add a new field to a form in Dynamics 365?\"\n",
    ")\n",
    "\n",
    "res = chat(messages + [prompt])\n",
    "print(res.content)"
   ]
  }
 ],
 "metadata": {
  "kernelspec": {
   "display_name": "venv",
   "language": "python",
   "name": "python3"
  },
  "language_info": {
   "codemirror_mode": {
    "name": "ipython",
    "version": 3
   },
   "file_extension": ".py",
   "mimetype": "text/x-python",
   "name": "python",
   "nbconvert_exporter": "python",
   "pygments_lexer": "ipython3",
   "version": "3.9.6"
  }
 },
 "nbformat": 4,
 "nbformat_minor": 2
}

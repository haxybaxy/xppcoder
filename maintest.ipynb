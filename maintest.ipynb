{
 "cells": [
  {
   "cell_type": "code",
   "execution_count": 1,
   "metadata": {},
   "outputs": [
    {
     "name": "stderr",
     "output_type": "stream",
     "text": [
      "/Users/zaidsaheb/Desktop/projects/xppcoder/venv/lib/python3.9/site-packages/urllib3/__init__.py:35: NotOpenSSLWarning: urllib3 v2 only supports OpenSSL 1.1.1+, currently the 'ssl' module is compiled with 'LibreSSL 2.8.3'. See: https://github.com/urllib3/urllib3/issues/3020\n",
      "  warnings.warn(\n"
     ]
    }
   ],
   "source": [
    "import os\n",
    "from langchain_openai import ChatOpenAI\n",
    "from dotenv import load_dotenv\n",
    "\n",
    "load_dotenv()\n",
    "\n",
    "os.environ[\"OPENAI_API_KEY\"] = os.getenv('OPENAI_API_KEY')\n",
    "chat = ChatOpenAI(\n",
    "    openai_api_key=os.environ[\"OPENAI_API_KEY\"],\n",
    "    model='gpt-3.5-turbo'\n",
    ")"
   ]
  },
  {
   "cell_type": "code",
   "execution_count": 2,
   "metadata": {},
   "outputs": [],
   "source": [
    "from langchain.schema import (\n",
    "    SystemMessage,\n",
    "    HumanMessage,\n",
    "    AIMessage\n",
    ")\n",
    "\n",
    "messages = [\n",
    "    SystemMessage(content=\"You are a helpful assistant.\"),\n",
    "    HumanMessage(content=\"Hi AI, how are you today?\"),\n",
    "    AIMessage(content=\"I'm great thank you. How can I help you?\"),\n",
    "    HumanMessage(content=\"I'd like to understand what love is.\")\n",
    "]"
   ]
  },
  {
   "cell_type": "code",
   "execution_count": 4,
   "metadata": {},
   "outputs": [
    {
     "name": "stderr",
     "output_type": "stream",
     "text": [
      "/Users/zaidsaheb/Desktop/projects/xppcoder/venv/lib/python3.9/site-packages/langchain_core/_api/deprecation.py:117: LangChainDeprecationWarning: The function `__call__` was deprecated in LangChain 0.1.7 and will be removed in 0.2.0. Use invoke instead.\n",
      "  warn_deprecated(\n"
     ]
    },
    {
     "name": "stdout",
     "output_type": "stream",
     "text": [
      "Love is a complex and multifaceted emotion that can be experienced in many different ways. It involves strong feelings of affection, care, and connection towards someone or something. Love can be romantic, platonic, familial, or even towards pets or activities. It often involves a deep sense of empathy, understanding, and support for the other person or thing. Love can bring joy, fulfillment, and a sense of purpose to our lives, and it is often considered one of the most powerful and positive emotions we can experience.\n"
     ]
    }
   ],
   "source": [
    "res = chat(messages)\n",
    "print(res.content)"
   ]
  },
  {
   "cell_type": "code",
   "execution_count": null,
   "metadata": {},
   "outputs": [],
   "source": [
    "# add latest AI response to messages\n",
    "messages.append(res)\n",
    "\n",
    "# now create a new user prompt\n",
    "prompt = HumanMessage(\n",
    "    content=\"Do you believe in love?\"\n",
    ")\n",
    "# add to messages\n",
    "messages.append(prompt)\n",
    "\n",
    "# send to chat-gpt\n",
    "res = chat(messages)\n",
    "\n",
    "print(res.content)"
   ]
  },
  {
   "cell_type": "code",
   "execution_count": 5,
   "metadata": {},
   "outputs": [],
   "source": [
    "# add latest AI response to messages\n",
    "messages.append(res)\n",
    "\n",
    "# now create a new user prompt\n",
    "prompt = HumanMessage(\n",
    "    content=\"What does page 69 of Extending Microsoft Dynamics 365 Finance and Supply Chain Management Cookbook Second Edition by Simon Buxton talk about?\"\n",
    ")\n",
    "# add to messages\n",
    "messages.append(prompt)\n",
    "\n",
    "# send to OpenAI\n",
    "res = chat(messages)"
   ]
  },
  {
   "cell_type": "code",
   "execution_count": 23,
   "metadata": {},
   "outputs": [
    {
     "name": "stdout",
     "output_type": "stream",
     "text": [
      "I don't have access to specific pages or content from the book \"Extending Microsoft Dynamics 365 Finance and Supply Chain Management Cookbook Second Edition\" by Simon Buxton. However, I can provide a general overview of the topics covered in the book.\n",
      "\n",
      "The book is a practical guide that focuses on extending and customizing Microsoft Dynamics 365 Finance and Supply Chain Management using various tools and techniques. It covers a wide range of topics related to development, customization, and integration with the Dynamics 365 platform.\n",
      "\n",
      "Some of the key topics covered in the book may include:\n",
      "\n",
      "- Customizing forms, tables, and reports in Dynamics 365 Finance and Supply Chain Management\n",
      "- Extending functionality using X++, C#, and .NET technologies\n",
      "- Integrating with external systems and services\n",
      "- Implementing business logic and workflows\n",
      "- Enhancing security and data management\n",
      "- Performance optimization and best practices for development\n",
      "\n",
      "If you are looking for specific information from page 69 of the book, I recommend referring to your personal copy or accessing the book through an online platform to read the content related to that page.\n"
     ]
    }
   ],
   "source": [
    "print(res.content)"
   ]
  },
  {
   "cell_type": "code",
   "execution_count": 6,
   "metadata": {},
   "outputs": [
    {
     "name": "stderr",
     "output_type": "stream",
     "text": [
      "/Users/zaidsaheb/Desktop/projects/xppcoder/venv/lib/python3.9/site-packages/pinecone/data/index.py:1: TqdmWarning: IProgress not found. Please update jupyter and ipywidgets. See https://ipywidgets.readthedocs.io/en/stable/user_install.html\n",
      "  from tqdm.autonotebook import tqdm\n"
     ]
    }
   ],
   "source": [
    "from pinecone import Pinecone\n",
    "\n",
    "import re\n",
    "import pdfplumber\n",
    "import openai\n",
    "from langchain.document_loaders import PyPDFLoader\n",
    "from langchain.text_splitter import RecursiveCharacterTextSplitter\n",
    "\n",
    "\n",
    "os.environ[\"PINECONE_API_KEY\"] = os.getenv('PINECONE_API_KEY')\n",
    "\n",
    "pc = Pinecone(api_key=os.environ[\"PINECONE_API_KEY\"])\n",
    "index = pc.Index(\"xppcoder\")"
   ]
  },
  {
   "cell_type": "code",
   "execution_count": 7,
   "metadata": {},
   "outputs": [],
   "source": [
    "openai.api_key = os.getenv('OPENAI_API_KEY')\n",
    "MODEL = \"text-embedding-ada-002\""
   ]
  },
  {
   "cell_type": "code",
   "execution_count": 4,
   "metadata": {},
   "outputs": [],
   "source": [
    "import re\n",
    "from tqdm import tqdm  # Import tqdm for progress tracking\n",
    "\n",
    "# Define a function to preprocess text\n",
    "def preprocess_text(text):\n",
    "    # Replace consecutive spaces, newlines, and tabs\n",
    "    text = re.sub(r'\\s+', ' ', text)\n",
    "    return text\n",
    "\n",
    "def process_pdf(file_path):\n",
    "    # create a loader\n",
    "    loader = PyPDFLoader(file_path)\n",
    "    # load your data\n",
    "    data = loader.load()\n",
    "    # Split your data up into smaller documents with Chunks\n",
    "    text_splitter = RecursiveCharacterTextSplitter(chunk_size=1000, chunk_overlap=200)\n",
    "    documents = text_splitter.split_documents(data)\n",
    "    # Convert Document objects into strings with progress tracking\n",
    "    texts = [str(doc) for doc in documents]\n",
    "    return texts\n",
    "\n",
    "\n"
   ]
  },
  {
   "cell_type": "code",
   "execution_count": 7,
   "metadata": {},
   "outputs": [],
   "source": [
    "def create_embeddings(texts):\n",
    "    embeddings_list = []\n",
    "    for text in texts:\n",
    "        response = openai.embeddings.create(input=text, model=MODEL)\n",
    "        embedding = response.data[0].embedding  # Access the embedding correctly\n",
    "        embeddings_list.append(embedding)\n",
    "    return embeddings_list\n",
    "\n",
    "# Define a function to upsert embeddings to Pinecone with metadata\n",
    "def upsert_embeddings_to_pinecone(index, embeddings, ids, texts, batch_size=100):\n",
    "    for i in range(0, len(embeddings), batch_size):\n",
    "        batch_embeddings = embeddings[i:i + batch_size]\n",
    "        batch_ids = ids[i:i + batch_size]\n",
    "        batch_texts = texts[i:i + batch_size]\n",
    "        metadata = [{'text': preprocess_text(text)} for text in batch_texts]\n",
    "        index.upsert(vectors=[(id, embedding, meta) for id, embedding, meta in zip(batch_ids, batch_embeddings, metadata)])\n",
    "\n",
    "\n"
   ]
  },
  {
   "cell_type": "code",
   "execution_count": 6,
   "metadata": {},
   "outputs": [
    {
     "name": "stdout",
     "output_type": "stream",
     "text": [
      "successfully processed pdf\n"
     ]
    }
   ],
   "source": [
    "testtexts = process_pdf(\"ilovepdf_merged.pdf\")\n",
    "print(\"successfully processed pdf\")"
   ]
  },
  {
   "cell_type": "code",
   "execution_count": 8,
   "metadata": {},
   "outputs": [
    {
     "name": "stdout",
     "output_type": "stream",
     "text": [
      "processed text for file dynamics365finopsdocs-3501-4000.pdf\n",
      "upserted embeddings for file dynamics365finopsdocs-3501-4000.pdf\n"
     ]
    }
   ],
   "source": [
    "# Define a function to create embedding\n",
    "# Process a PDF and create embeddings\n",
    "file_paths = [\"dynamics365finopsdocs-3501-4000.pdf\"]  # Replace with your actual file path\n",
    "for file_path in file_paths:\n",
    "  texts = process_pdf(file_path)\n",
    "  print(\"processed text for file\", file_path)\n",
    "  embeddings = create_embeddings(texts)\n",
    "  # Assuming that `file_path` is used as the ID for the entire document; if you want to use unique IDs for each text chunk, modify this accordingly\n",
    "  ids = [f\"{file_path}_chunk_{i}\" for i in range(len(embeddings))]\n",
    "  # Upsert the embeddings to Pinecone with text as metadata\n",
    "  upsert_embeddings_to_pinecone(index, embeddings, ids, texts)\n",
    "  print(\"upserted embeddings for file\", file_path)"
   ]
  },
  {
   "cell_type": "code",
   "execution_count": 8,
   "metadata": {},
   "outputs": [
    {
     "name": "stderr",
     "output_type": "stream",
     "text": [
      "/Users/zaidsaheb/Desktop/projects/xppcoder/venv/lib/python3.9/site-packages/langchain_core/_api/deprecation.py:117: LangChainDeprecationWarning: The class `langchain_community.embeddings.openai.OpenAIEmbeddings` was deprecated in langchain-community 0.0.9 and will be removed in 0.2.0. An updated version of the class exists in the langchain-openai package and should be used instead. To use it run `pip install -U langchain-openai` and import as `from langchain_openai import OpenAIEmbeddings`.\n",
      "  warn_deprecated(\n",
      "/Users/zaidsaheb/Desktop/projects/xppcoder/venv/lib/python3.9/site-packages/langchain_core/_api/deprecation.py:117: LangChainDeprecationWarning: The class `langchain_community.vectorstores.pinecone.Pinecone` was deprecated in langchain-community 0.0.18 and will be removed in 0.2.0. An updated version of the class exists in the langchain-pinecone package and should be used instead. To use it run `pip install -U langchain-pinecone` and import as `from langchain_pinecone import Pinecone`.\n",
      "  warn_deprecated(\n",
      "/Users/zaidsaheb/Desktop/projects/xppcoder/venv/lib/python3.9/site-packages/langchain_community/vectorstores/pinecone.py:68: UserWarning: Passing in `embedding` as a Callable is deprecated. Please pass in an Embeddings object instead.\n",
      "  warnings.warn(\n"
     ]
    }
   ],
   "source": [
    "from langchain.vectorstores import Pinecone\n",
    "from langchain.embeddings import OpenAIEmbeddings\n",
    "\n",
    "text_field = \"text\"  # the metadata field that contains our text\n",
    "embed_model = OpenAIEmbeddings(model=MODEL)\n",
    "# initialize the vector store object\n",
    "vectorstore = Pinecone(\n",
    "    index, embed_model.embed_query, text_field\n",
    ")"
   ]
  },
  {
   "cell_type": "code",
   "execution_count": 12,
   "metadata": {},
   "outputs": [
    {
     "data": {
      "text/plain": [
       "[Document(page_content=\"page_content='point to Add, and then click New it em.\\\\n2. Click Dynamics 365 It ems > User Int erface > Display menu it em. Set the Name\\\\nproperty to FMTAvailableV ehicles .\\\\n3. Click Add.ﾉExpand table\\\\nﾉExpand table\\\\nAdd a new menu item that references the new form' metadata={'source': 'dynamics365finopsdocs-5501-6000.pdf', 'page': 101}\"),\n",
       " Document(page_content='page_content=\"6. In the Install Dynamics 365 apps dialog box, find the row where the Name field is\\\\nset to Dual-wr ite Supply Chain s olution . Then follow one of these steps:\\\\nIf the Status field for the row indicates that the app isn\\'t installed, or that an\\\\nupdate is available, select the row, and then select Next to open an\\\\ninstallation wizard. Follow the on-screen instructions to install the app.\\\\nIf the Status field for the row indicates that the app is installed, enabled, and\\\\nup to date, select Cancel .\\\\n7. On the Dynamics 365 apps page, find the row where the Name field is set to\\\\nDual-wr ite Supply Chain s olution . The Status field for the row should now indicate\\\\nthat this app is installed.Step 1: Add the dual-write Supply Chain\\\\nsolutio n to your Power Platform environment\\\\n） Impor tant\\\\nDon\\'t update the Dual-write Supply Chain solution, as described in this section,\\\\nunless you\\'re running Supply Chain Management version 10.0.34 or later. T o fully\" metadata={\\'source\\': \\'dynamics365finopsdocs-3501-4000.pdf\\', \\'page\\': 123}'),\n",
       " Document(page_content=\"page_content='Add a form part.\\\\nOther ways to customize a form, such as reordering controls in the form are planned to\\\\nbe included in a future release. In Microsoft Dynamics AX 2012, you could override form\\\\nmethods. In the current version, you use extensions to implement event handlers that\\\\nare called from the base implementations of form methods. The following table lists\\\\neach method and its associated events.\\\\nPublished form DataSour ce method Preceding ev ent Succeeding ev ent\\\\nactive N/A Activated\\\\ndelete Deleting Deleted\\\\nvalidateWrite ValidatingWriting ValidatedWrite\\\\nwrite Writing WrittenPlug-ins\\\\nClass Extensions\\\\nForm extensions\\\\nﾉExpand table' metadata={'source': 'dynamics365finopsdocs-2501-3000.pdf', 'page': 35}\"),\n",
       " Document(page_content=\"page_content='1. In Solution Explorer, under Analy tics, double-click FMTAggr egateMeasur ement .\\\\n2. In the designer, right-click FMTAggr egateMeasur ement , and then click Deploy\\\\nand Pr ocess .\\\\nBefore you begin to build the contact control, look at the appearance of the current\\\\nimplementation. In the following sections, you will use the Control Extensibility\\\\nFramework to enrich the visualization of the controls and the form.\\\\n1. In Solution Explorer, expand Forms , right-click FMTClerkW orksp ace, and then click\\\\nSet as S tartup Object .\\\\n2. Press Ctrl+F5 to open the Fleet management clerk page in Microsoft Edge. As the\\\\nfollowing screen shot shows, the data on this page appears as a simple grid in a list\\\\nstyle that contains several string and date controls.\\\\n3. Exit Microsoft Edge.\\\\nTo save time, you will work on a partially completed extensible control that is named the\\\\ncontact control. Y ou will extend the contact control to complete its design, run-time, and' metadata={'source': 'dynamics365finopsdocs-6001-6248.pdf', 'page': 34}\"),\n",
       " Document(page_content=\"page_content='[\\\\n7. Associate a configuration key to an element in your solution. For example, create a\\\\nnew form. Right-click the project in Solution Explorer, then click Add > New it em.\\\\nUnder Installed > Dynamics 365 It ems, choose User Int erface. In the list, choose\\\\nForm and give it a name. In this example, we named the form ISVForm .\\\\n8. Add a button to the form. Double-click the form in the Solution Explorer. In the\\\\nDesign window, right-click and select New , and then Button. Set the Text property\\\\nto ISVButt on.' metadata={'source': 'dynamics365finopsdocs-3001-3500.pdf', 'page': 46}\")]"
      ]
     },
     "execution_count": 12,
     "metadata": {},
     "output_type": "execute_result"
    }
   ],
   "source": [
    "\n",
    "query = \"How can I add a new field to a form in Dynamics 365 using Chain of Command??\"\n",
    "\n",
    "vectorstore.similarity_search(query, k=5)"
   ]
  },
  {
   "cell_type": "code",
   "execution_count": 16,
   "metadata": {},
   "outputs": [],
   "source": [
    "def augment_prompt(query: str):\n",
    "    # get top 3 results from knowledge base\n",
    "    results = vectorstore.similarity_search(query, k=7)\n",
    "    # get the text from the results\n",
    "    source_knowledge = \"\\n\".join([x.page_content for x in results])\n",
    "    # feed into an augmented prompt\n",
    "    augmented_prompt = f\"\"\"Using the contexts below, answer the query.\n",
    "\n",
    "    Contexts:\n",
    "    {source_knowledge}\n",
    "\n",
    "    Query: {query}\"\"\"\n",
    "    return augmented_prompt"
   ]
  },
  {
   "cell_type": "code",
   "execution_count": 17,
   "metadata": {},
   "outputs": [
    {
     "name": "stdout",
     "output_type": "stream",
     "text": [
      "To add a new field to a form in Dynamics 365 using Chain of Command, you can follow these steps:\n",
      "\n",
      "1. In Solution Explorer, create a new form by right-clicking on the project and selecting \"Add > New item\".\n",
      "2. Under Installed > Dynamics 365 Items, choose User Interface, then select Form and give it a name. For example, you can name it ISVForm.\n",
      "3. Add a button to the form by double-clicking the form in the Solution Explorer. In the Design window, right-click and select \"New\", then choose Button. Set the Text property to ISVButton.\n",
      "\n",
      "This process allows you to customize the form by adding a new field using the Chain of Command approach in Dynamics 365.\n"
     ]
    }
   ],
   "source": [
    "# create a new user prompt\n",
    "prompt = HumanMessage(\n",
    "    content=augment_prompt(query)\n",
    ")\n",
    "# add to messages\n",
    "messages.append(prompt)\n",
    "\n",
    "res = chat(messages)\n",
    "\n",
    "print(res.content)"
   ]
  },
  {
   "cell_type": "code",
   "execution_count": 18,
   "metadata": {},
   "outputs": [
    {
     "name": "stdout",
     "output_type": "stream",
     "text": [
      "In Dynamics 365, the Chain of Command framework allows you to extend or modify the functionality of existing objects without modifying the code directly. This framework helps you adhere to best practices and maintain upgradability. Here are the general steps to add a new field to a form in Dynamics 365 using Chain of Command:\n",
      "\n",
      "1. Identify the form: Determine the form to which you want to add a new field. This could be a standard form or a custom form.\n",
      "\n",
      "2. Create an extension: Create a new extension for the table that corresponds to the form where you want to add the field. This extension will allow you to add the new field without modifying the base table.\n",
      "\n",
      "3. Add the new field: Within the extension, add the new field definition with the desired properties such as data type, label, and any validation rules.\n",
      "\n",
      "4. Extend the form: Create an extension for the form itself. In this extension, you can modify the design of the form to include the new field you added in the previous step.\n",
      "\n",
      "5. Bind the field: Bind the new field from the table extension to the form extension. This step ensures that the new field appears correctly on the form.\n",
      "\n",
      "6. Compile and test: Compile your changes and test the form to ensure that the new field appears as expected and functions correctly.\n",
      "\n",
      "By following these steps and utilizing the Chain of Command framework in Dynamics 365, you can effectively add a new field to a form without directly modifying the base code.\n"
     ]
    }
   ],
   "source": [
    "prompt = HumanMessage(\n",
    "    content=\"Can you elaborate on using Chain of command and provide me the steps to add a new field to a form in Dynamics 365?\"\n",
    ")\n",
    "\n",
    "res = chat(messages + [prompt])\n",
    "print(res.content)"
   ]
  },
  {
   "cell_type": "code",
   "execution_count": 19,
   "metadata": {},
   "outputs": [
    {
     "name": "stdout",
     "output_type": "stream",
     "text": [
      "To create an extension of a table in Dynamics 365, you can follow these general steps:\n",
      "\n",
      "1. Identify the base table that you want to extend.\n",
      "2. Create a new project in Visual Studio.\n",
      "3. Add a new project item of type \"Table extension\" or \"Data entity extension\".\n",
      "4. Specify the base table that you want to extend in the extension object.\n",
      "5. Add new fields, methods, or other customizations to the extension object to meet your requirements.\n",
      "6. Build and deploy the project to your Dynamics 365 environment.\n",
      "7. Verify that the extension is working as expected by testing it in the Dynamics 365 application.\n",
      "\n",
      "These steps may vary slightly depending on the specific version of Dynamics 365 and the development tools you are using. Make sure to refer to the official Microsoft documentation for detailed guidance on creating extensions for tables in Dynamics 365.\n"
     ]
    }
   ],
   "source": [
    "prompt = HumanMessage(\n",
    "    content=\"How can I create an extension of a table in dynamics 365?\"\n",
    ")\n",
    "\n",
    "res = chat(messages + [prompt])\n",
    "print(res.content)"
   ]
  },
  {
   "cell_type": "code",
   "execution_count": 20,
   "metadata": {},
   "outputs": [
    {
     "name": "stdout",
     "output_type": "stream",
     "text": [
      "You can click on the Dynamics 365 Items > User Interface option and then choose to display the menu item. Set the Name property to FMTAvailableVehicles, and then click Add. This will allow you to add a new menu item that references the new form.\n"
     ]
    }
   ],
   "source": [
    "prompt = HumanMessage(\n",
    "    content=\"Where can I click to add a new project item of type table extension?\"\n",
    ")\n",
    "\n",
    "res = chat(messages + [prompt])\n",
    "print(res.content)"
   ]
  },
  {
   "cell_type": "code",
   "execution_count": 25,
   "metadata": {},
   "outputs": [
    {
     "name": "stdout",
     "output_type": "stream",
     "text": [
      "You can click on \"Open in Microsoft Office\" in Dynamics 365 and then select \"Export to Excel\" to get your data as an Excel sheet.\n"
     ]
    }
   ],
   "source": [
    "prompt = HumanMessage(\n",
    "    content=\"Where can I click in Dynamics 365 to get my data as an excel sheet? \"\n",
    ")\n",
    "\n",
    "res = chat(messages + [prompt])\n",
    "print(res.content)"
   ]
  }
 ],
 "metadata": {
  "kernelspec": {
   "display_name": "venv",
   "language": "python",
   "name": "python3"
  },
  "language_info": {
   "codemirror_mode": {
    "name": "ipython",
    "version": 3
   },
   "file_extension": ".py",
   "mimetype": "text/x-python",
   "name": "python",
   "nbconvert_exporter": "python",
   "pygments_lexer": "ipython3",
   "version": "3.9.6"
  }
 },
 "nbformat": 4,
 "nbformat_minor": 2
}

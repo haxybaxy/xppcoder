{
 "cells": [
  {
   "cell_type": "code",
   "execution_count": 3,
   "metadata": {},
   "outputs": [],
   "source": [
    "import os\n",
    "from langchain_openai import ChatOpenAI\n",
    "from dotenv import load_dotenv\n",
    "\n",
    "load_dotenv()\n",
    "\n",
    "os.environ[\"OPENAI_API_KEY\"] = os.getenv('OPENAI_API_KEY')\n",
    "chat = ChatOpenAI(\n",
    "    openai_api_key=os.environ[\"OPENAI_API_KEY\"],\n",
    "    model='gpt-3.5-turbo'\n",
    ")"
   ]
  },
  {
   "cell_type": "code",
   "execution_count": 4,
   "metadata": {},
   "outputs": [],
   "source": [
    "from langchain.schema import (\n",
    "    SystemMessage,\n",
    "    HumanMessage,\n",
    "    AIMessage\n",
    ")\n",
    "\n",
    "messages = [\n",
    "    SystemMessage(content=\"You are a helpful assistant.\"),\n",
    "    HumanMessage(content=\"Hi AI, how are you today?\"),\n",
    "    AIMessage(content=\"I'm great thank you. How can I help you?\"),\n",
    "    HumanMessage(content=\"I'd like to understand what love is.\")\n",
    "]"
   ]
  },
  {
   "cell_type": "code",
   "execution_count": 17,
   "metadata": {},
   "outputs": [
    {
     "name": "stderr",
     "output_type": "stream",
     "text": [
      "/Users/zaidsaheb/Desktop/projects/xppcoder/venv/lib/python3.9/site-packages/langchain_core/_api/deprecation.py:117: LangChainDeprecationWarning: The function `__call__` was deprecated in LangChain 0.1.7 and will be removed in 0.2.0. Use invoke instead.\n",
      "  warn_deprecated(\n"
     ]
    },
    {
     "name": "stdout",
     "output_type": "stream",
     "text": [
      "Love is a complex and multifaceted emotion that can be experienced in many different ways. It involves feelings of deep affection, care, and attachment towards another person. Love can manifest in various forms, such as romantic love, platonic love, familial love, and self-love. It often involves a strong emotional connection, empathy, and a desire to support and nurture the well-being of the person you love. Love can bring joy, fulfillment, and a sense of belonging, but it can also be challenging and require effort and compromise to maintain. Ultimately, love is a deeply personal and subjective experience that can have a profound impact on our lives.\n"
     ]
    }
   ],
   "source": [
    "res = chat(messages)\n",
    "print(res.content)"
   ]
  },
  {
   "cell_type": "code",
   "execution_count": null,
   "metadata": {},
   "outputs": [],
   "source": [
    "# add latest AI response to messages\n",
    "messages.append(res)\n",
    "\n",
    "# now create a new user prompt\n",
    "prompt = HumanMessage(\n",
    "    content=\"Do you believe in love?\"\n",
    ")\n",
    "# add to messages\n",
    "messages.append(prompt)\n",
    "\n",
    "# send to chat-gpt\n",
    "res = chat(messages)\n",
    "\n",
    "print(res.content)"
   ]
  },
  {
   "cell_type": "code",
   "execution_count": 22,
   "metadata": {},
   "outputs": [],
   "source": [
    "# add latest AI response to messages\n",
    "messages.append(res)\n",
    "\n",
    "# now create a new user prompt\n",
    "prompt = HumanMessage(\n",
    "    content=\"What does page 69 of Extending Microsoft Dynamics 365 Finance and Supply Chain Management Cookbook Second Edition by Simon Buxton talk about?\"\n",
    ")\n",
    "# add to messages\n",
    "messages.append(prompt)\n",
    "\n",
    "# send to OpenAI\n",
    "res = chat(messages)"
   ]
  },
  {
   "cell_type": "code",
   "execution_count": 23,
   "metadata": {},
   "outputs": [
    {
     "name": "stdout",
     "output_type": "stream",
     "text": [
      "I don't have access to specific pages or content from the book \"Extending Microsoft Dynamics 365 Finance and Supply Chain Management Cookbook Second Edition\" by Simon Buxton. However, I can provide a general overview of the topics covered in the book.\n",
      "\n",
      "The book is a practical guide that focuses on extending and customizing Microsoft Dynamics 365 Finance and Supply Chain Management using various tools and techniques. It covers a wide range of topics related to development, customization, and integration with the Dynamics 365 platform.\n",
      "\n",
      "Some of the key topics covered in the book may include:\n",
      "\n",
      "- Customizing forms, tables, and reports in Dynamics 365 Finance and Supply Chain Management\n",
      "- Extending functionality using X++, C#, and .NET technologies\n",
      "- Integrating with external systems and services\n",
      "- Implementing business logic and workflows\n",
      "- Enhancing security and data management\n",
      "- Performance optimization and best practices for development\n",
      "\n",
      "If you are looking for specific information from page 69 of the book, I recommend referring to your personal copy or accessing the book through an online platform to read the content related to that page.\n"
     ]
    }
   ],
   "source": [
    "print(res.content)"
   ]
  },
  {
   "cell_type": "code",
   "execution_count": 5,
   "metadata": {},
   "outputs": [],
   "source": [
    "from pinecone import Pinecone\n",
    "\n",
    "import re\n",
    "import pdfplumber\n",
    "import openai\n",
    "from langchain.document_loaders import PyPDFLoader\n",
    "from langchain.text_splitter import RecursiveCharacterTextSplitter\n",
    "\n",
    "\n",
    "os.environ[\"PINECONE_API_KEY\"] = os.getenv('PINECONE_API_KEY')\n",
    "\n",
    "pc = Pinecone(api_key=os.environ[\"PINECONE_API_KEY\"])\n",
    "index = pc.Index(\"xppcoder\")"
   ]
  },
  {
   "cell_type": "code",
   "execution_count": 6,
   "metadata": {},
   "outputs": [],
   "source": [
    "openai.api_key = os.getenv('OPENAI_API_KEY')\n",
    "MODEL = \"text-embedding-ada-002\""
   ]
  },
  {
   "cell_type": "code",
   "execution_count": 10,
   "metadata": {},
   "outputs": [
    {
     "name": "stderr",
     "output_type": "stream",
     "text": [
      "Processing documents: 100%|██████████| 1170/1170 [00:00<00:00, 72905.40it/s]\n"
     ]
    }
   ],
   "source": [
    "import re\n",
    "from tqdm import tqdm  # Import tqdm for progress tracking\n",
    "\n",
    "# Define a function to preprocess text\n",
    "def preprocess_text(text):\n",
    "    # Replace consecutive spaces, newlines, and tabs\n",
    "    text = re.sub(r'\\s+', ' ', text)\n",
    "    return text\n",
    "\n",
    "def process_pdf(file_path):\n",
    "    # create a loader\n",
    "    loader = PyPDFLoader(file_path)\n",
    "    # load your data\n",
    "    data = loader.load()\n",
    "    # Split your data up into smaller documents with Chunks\n",
    "    text_splitter = RecursiveCharacterTextSplitter(chunk_size=1000, chunk_overlap=200)\n",
    "    documents = text_splitter.split_documents(data)\n",
    "    # Convert Document objects into strings with progress tracking\n",
    "    texts = [str(doc) for doc in tqdm(documents, desc=\"Processing documents\")]\n",
    "    return texts\n",
    "\n",
    "# Define a function to create embedding\n",
    "# Process a PDF and create embeddings\n",
    "file_path = \"fnobook.pdf\"  # Replace with your actual file path\n",
    "texts = process_pdf(file_path)\n"
   ]
  },
  {
   "cell_type": "code",
   "execution_count": 11,
   "metadata": {},
   "outputs": [],
   "source": [
    "def create_embeddings(texts):\n",
    "    embeddings_list = []\n",
    "    for text in texts:\n",
    "        response = openai.embeddings.create(input=text, model=MODEL)\n",
    "        embedding = response.data[0].embedding  # Access the embedding correctly\n",
    "        embeddings_list.append(embedding)\n",
    "    return embeddings_list\n",
    "\n",
    "# Define a function to upsert embeddings to Pinecone with metadata\n",
    "def upsert_embeddings_to_pinecone(index, embeddings, ids, texts, batch_size=100):\n",
    "    for i in range(0, len(embeddings), batch_size):\n",
    "        batch_embeddings = embeddings[i:i + batch_size]\n",
    "        batch_ids = ids[i:i + batch_size]\n",
    "        batch_texts = texts[i:i + batch_size]\n",
    "        metadata = [{'text': preprocess_text(text)} for text in batch_texts]\n",
    "        index.upsert(vectors=[(id, embedding, meta) for id, embedding, meta in zip(batch_ids, batch_embeddings, metadata)])\n",
    "\n",
    "\n",
    "embeddings = create_embeddings(texts)\n",
    "\n",
    "# Assuming that `file_path` is used as the ID for the entire document; if you want to use unique IDs for each text chunk, modify this accordingly\n",
    "ids = [f\"{file_path}_chunk_{i}\" for i in range(len(embeddings))]\n",
    "\n",
    "# Upsert the embeddings to Pinecone with text as metadata\n",
    "upsert_embeddings_to_pinecone(index, embeddings, ids, texts)"
   ]
  },
  {
   "cell_type": "code",
   "execution_count": 66,
   "metadata": {},
   "outputs": [],
   "source": [
    "from langchain.vectorstores import Pinecone\n",
    "from langchain.embeddings import OpenAIEmbeddings\n",
    "\n",
    "text_field = \"text\"  # the metadata field that contains our text\n",
    "embed_model = OpenAIEmbeddings(model=MODEL)\n",
    "# initialize the vector store object\n",
    "vectorstore = Pinecone(\n",
    "    index, embed_model.embed_query, text_field\n",
    ")"
   ]
  },
  {
   "cell_type": "code",
   "execution_count": 72,
   "metadata": {},
   "outputs": [
    {
     "data": {
      "text/plain": [
       "[Document(page_content=\"page_content='Application Extensibility Chapter 5\\\\n[ 184 ]Using Chain of Command with a form\\\\nThe forms in SCM can contain a lot of code that we may wish to augment to suit a specific\\\\nrequirement. We have added a service ID field to the sales order, so it may seem a fair\\\\nrequirement to default the service ID if it were called from a service order.\\\\nWhen a form is opened, an args object is passed. If we add the SalesTable menu item to\\\\nour service order form, and set the dataset to the service order, the args object will be\\\\nconstructed with a reference to this record. We can use this to filter a list of sales orders or\\\\nuse it in the form to set defaults on a new sales order record.\\\\nHow to do it...\\\\nFirst, we will add the sales order menu item to our service order, and then use the Chain of\\\\nCommand to integrate it into our solution. To add the menu item, follow these steps:\\\\nOpen the ConVMSVehicleServiceTable form. 1.\\\\nRight-click on the HeaderActionPane action pane control, and choose New | 2.' metadata={'source': 'fnobook.pdf', 'page': 200}\"),\n",
       " Document(page_content=\"page_content='Application Extensibility Chapter 5\\\\n[ 182 ]Getting ready\\\\nRe-open the main development project, ConVehicleManagement , for this. Before we start\\\\nusing the Adding fields to a standard table recipe to add a field to the SalesTable table for\\\\nthe ConVMSVehicleServiceId EDT, also add a relationship to\\\\nConVMSVehicleServiceTable . Create a field group also called ConVMSServiceGroup\\\\nwith a label for Service details .\\\\nHow to do it...\\\\nTo write a form extension for the sales order form, SalesTable , follow these steps:\\\\nLocate the desired form ( SalesTable ) in the Application Explorer , right-click 1.\\\\non it, and choose Create extension . This will add a new form extension to our\\\\nproject.\\\\nLocate the new form extension in our project, and rename it so it will remain2.\\\\nglobally unique, for example, SalesTable.ConVehicleManagement .\\\\nOpen the form extension in the designer. 3.\\\\nWe can now drag any field or field group, including extension fields that' metadata={'source': 'fnobook.pdf', 'page': 198}\"),\n",
       " Document(page_content=\"page_content='Chapter 3, Creating the User Interface , explains how to create user interface elements such as\\\\nmenus, forms, form parts, tiles, and workspaces. This chapter includes recipes for each of\\\\nthe main types of user interfaces used when creating or extending Dynamics 365 Finance\\\\nand Supply Chain Management user interfaces with practical guidance and tips on how to\\\\ndo this efficiently.\\\\nChapter 4, Working with Form Logic and Frameworks , helps us step into writing the business\\\\nlogic to handle table and form events. It then explains how to create and hook up a number\\\\nsequence to a form and how to use it in a record to create dialog. It finishes with a recipe on\\\\nhow to update form controls at runtime.\\\\nChapter 5, Application Extensibility , looks at extensibility, which can be said to be one of the\\\\nbiggest changes in Dynamics 365 Finance and Supply Chain Management. This chapter\\\\npays special attention to the key aspects of how to use extend the standard application' metadata={'source': 'fnobook.pdf', 'page': 18}\")]"
      ]
     },
     "execution_count": 72,
     "metadata": {},
     "output_type": "execute_result"
    }
   ],
   "source": [
    "\n",
    "query = \"How can I add a new field to a form in Dynamics 365 using Chain of Command??\"\n",
    "\n",
    "vectorstore.similarity_search(query, k=3)"
   ]
  },
  {
   "cell_type": "code",
   "execution_count": 73,
   "metadata": {},
   "outputs": [],
   "source": [
    "def augment_prompt(query: str):\n",
    "    # get top 3 results from knowledge base\n",
    "    results = vectorstore.similarity_search(query, k=3)\n",
    "    # get the text from the results\n",
    "    source_knowledge = \"\\n\".join([x.page_content for x in results])\n",
    "    # feed into an augmented prompt\n",
    "    augmented_prompt = f\"\"\"Using the contexts below, answer the query.\n",
    "\n",
    "    Contexts:\n",
    "    {source_knowledge}\n",
    "\n",
    "    Query: {query}\"\"\"\n",
    "    return augmented_prompt"
   ]
  },
  {
   "cell_type": "code",
   "execution_count": 74,
   "metadata": {},
   "outputs": [
    {
     "name": "stdout",
     "output_type": "stream",
     "text": [
      "Based on the provided contexts, you can add a new field to a form in Dynamics 365 using Chain of Command by following these steps:\n",
      "\n",
      "1. Identify the form: Locate the form where you want to add the new field. In this case, let's assume you want to add a field to the SalesTable form.\n",
      "\n",
      "2. Create a form extension: In the Application Explorer, right-click on the SalesTable form and choose \"Create extension.\" This will add a new form extension to your project.\n",
      "\n",
      "3. Rename the form extension: Locate the newly created form extension in your project and rename it to ensure it is globally unique. For example, you can name it SalesTable.YourProjectName.\n",
      "\n",
      "4. Open the form extension in the designer: Open the form extension you created in the designer to start customizing the form.\n",
      "\n",
      "5. Add the new field: In the form extension designer, you can drag and drop the new field onto the form. You can also add field groups or extension fields as needed.\n",
      "\n",
      "6. Use Chain of Command: To integrate the new field into your solution using Chain of Command, you can follow the guidance provided in the \"Application Extensibility\" chapter. This may involve leveraging the args object passed when the form is opened to customize the behavior of the new field based on specific requirements.\n",
      "\n",
      "By following these steps and utilizing Chain of Command techniques as described in the provided context, you can successfully add a new field to a form in Dynamics 365 Finance and Supply Chain Management.\n"
     ]
    }
   ],
   "source": [
    "# create a new user prompt\n",
    "prompt = HumanMessage(\n",
    "    content=augment_prompt(query)\n",
    ")\n",
    "# add to messages\n",
    "messages.append(prompt)\n",
    "\n",
    "res = chat(messages)\n",
    "\n",
    "print(res.content)"
   ]
  },
  {
   "cell_type": "code",
   "execution_count": 75,
   "metadata": {},
   "outputs": [
    {
     "name": "stdout",
     "output_type": "stream",
     "text": [
      "Using Chain of Command in Dynamics 365 allows you to extend standard objects without modifying their base code. This approach helps maintain the integrity of the original code and simplifies future upgrades. Here are the steps to add a new field to a form in Dynamics 365 using Chain of Command:\n",
      "\n",
      "1. Identify the Form: Determine the standard form in Dynamics 365 where you want to add the new field.\n",
      "\n",
      "2. Create an Extension Class: Create a new class that extends the standard form. This class will contain the logic for adding the new field.\n",
      "\n",
      "3. Override the appropriate method: Identify the method in the standard form where you want to add the new field. Common methods to override include init, modifiedField, or build.\n",
      "\n",
      "4. Add the Field in the Overridden Method: Within the overridden method, use Chain of Command APIs to add the new field to the form. Define the field properties such as data type, label, and validation rules.\n",
      "\n",
      "5. Compile and Deploy the Extension: Compile your code, deploy the extension to your Dynamics 365 environment, and test the form to ensure that the new field is displayed correctly.\n",
      "\n",
      "Here is a basic example of how you might add a new field to a form using Chain of Command in X++:\n",
      "\n",
      "```x++\n",
      "[ExtensionOf(FormStr(CustTable))]\n",
      "final class CustTable_Extension\n",
      "{\n",
      "    public void modifiedField(fieldId _fieldId)\n",
      "    {\n",
      "        super(_fieldId);\n",
      "\n",
      "        if (_fieldId == fieldNum(CustTable, NewField))\n",
      "        {\n",
      "            this.addControl(\"NewField\", formMethodStr(CustTable_Extension, NewFieldControl));\n",
      "        }\n",
      "    }\n",
      "\n",
      "    public void NewFieldControl(FormControl _formControl)\n",
      "    {\n",
      "        _formControl.label(\"New Field\");\n",
      "        _formControl.dataField(fieldNum(CustTable, NewField));\n",
      "        _formControl.width(200);\n",
      "        _formControl.autoDeclaration(true);\n",
      "    }\n",
      "}\n",
      "```\n",
      "\n",
      "Please note that this is a simplified example, and you may need to adjust the code based on your specific requirements and the structure of the form you are extending.\n"
     ]
    }
   ],
   "source": [
    "prompt = HumanMessage(\n",
    "    content=\"Can you elaborate on using Chain of command and provide me the steps to add a new field to a form in Dynamics 365?\"\n",
    ")\n",
    "\n",
    "res = chat(messages + [prompt])\n",
    "print(res.content)"
   ]
  }
 ],
 "metadata": {
  "kernelspec": {
   "display_name": "venv",
   "language": "python",
   "name": "python3"
  },
  "language_info": {
   "codemirror_mode": {
    "name": "ipython",
    "version": 3
   },
   "file_extension": ".py",
   "mimetype": "text/x-python",
   "name": "python",
   "nbconvert_exporter": "python",
   "pygments_lexer": "ipython3",
   "version": "3.9.6"
  }
 },
 "nbformat": 4,
 "nbformat_minor": 2
}
